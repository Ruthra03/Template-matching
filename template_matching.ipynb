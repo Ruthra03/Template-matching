{
 "cells": [
  {
   "cell_type": "code",
   "execution_count": 2,
   "metadata": {},
   "outputs": [],
   "source": [
    "import cv2\n",
    "import numpy as np"
   ]
  },
  {
   "cell_type": "code",
   "execution_count": 10,
   "metadata": {},
   "outputs": [],
   "source": [
    "source = cv2.imread('photo_2024-09-14_12-07-38.jpg')\n",
    "block = cv2.imread('photo_2024-09-14_12-07-35.jpg')\n",
    "block_height, block_width = block.shape[:2] # Get height and width of block\n",
    "source_height, source_width = source.shape[:2] # Get height and width of the source"
   ]
  },
  {
   "cell_type": "code",
   "execution_count": 11,
   "metadata": {},
   "outputs": [],
   "source": [
    "srow,erow = 0,source_height-block_height \n",
    "scol,ecol = 0,source_width-block_width"
   ]
  },
  {
   "cell_type": "code",
   "execution_count": 18,
   "metadata": {},
   "outputs": [],
   "source": [
    "position = None\n",
    "f_score = float('inf')\n",
    "for x in range(srow,erow+1): # Fixing the height of the sliding window\n",
    "    for y in range(scol,ecol+1): # Fixing the width of the sliding window\n",
    "        window = source[x:x+block_height, y:y+block_width] # Sliding window\n",
    "        score = ((window - block) ** 2).sum() / (block_height * block_width)  # Normalized SSD\n",
    "        if score < f_score:\n",
    "            f_score = score\n",
    "            position = [y,x]"
   ]
  },
  {
   "cell_type": "code",
   "execution_count": 19,
   "metadata": {},
   "outputs": [
    {
     "name": "stdout",
     "output_type": "stream",
     "text": [
      "[275, 125]\n"
     ]
    }
   ],
   "source": [
    "print(position)"
   ]
  },
  {
   "cell_type": "code",
   "execution_count": null,
   "metadata": {},
   "outputs": [],
   "source": []
  }
 ],
 "metadata": {
  "kernelspec": {
   "display_name": "Python 3",
   "language": "python",
   "name": "python3"
  },
  "language_info": {
   "codemirror_mode": {
    "name": "ipython",
    "version": 3
   },
   "file_extension": ".py",
   "mimetype": "text/x-python",
   "name": "python",
   "nbconvert_exporter": "python",
   "pygments_lexer": "ipython3",
   "version": "3.12.6"
  }
 },
 "nbformat": 4,
 "nbformat_minor": 2
}
